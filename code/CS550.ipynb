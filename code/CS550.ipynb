{
  "nbformat": 4,
  "nbformat_minor": 0,
  "metadata": {
    "colab": {
      "name": "CS550.ipynb",
      "provenance": [],
      "collapsed_sections": [],
      "machine_shape": "hm"
    },
    "kernelspec": {
      "name": "python3",
      "display_name": "Python 3"
    },
    "language_info": {
      "name": "python"
    },
    "accelerator": "GPU",
    "widgets": {
      "application/vnd.jupyter.widget-state+json": {
        "c003374a8cab47769345a5cdb2491413": {
          "model_module": "@jupyter-widgets/controls",
          "model_name": "HBoxModel",
          "model_module_version": "1.5.0",
          "state": {
            "_view_name": "HBoxView",
            "_dom_classes": [],
            "_model_name": "HBoxModel",
            "_view_module": "@jupyter-widgets/controls",
            "_model_module_version": "1.5.0",
            "_view_count": null,
            "_view_module_version": "1.5.0",
            "box_style": "",
            "layout": "IPY_MODEL_71d183145d064f84838abbeb8e508f42",
            "_model_module": "@jupyter-widgets/controls",
            "children": [
              "IPY_MODEL_7548b58b31054dc1905917b8eb1496f7",
              "IPY_MODEL_ebac8d6485bf4bebb8baec06b6593eb1",
              "IPY_MODEL_ed418a50653a47039eb797854a8d8dad"
            ]
          }
        },
        "71d183145d064f84838abbeb8e508f42": {
          "model_module": "@jupyter-widgets/base",
          "model_name": "LayoutModel",
          "model_module_version": "1.2.0",
          "state": {
            "_view_name": "LayoutView",
            "grid_template_rows": null,
            "right": null,
            "justify_content": null,
            "_view_module": "@jupyter-widgets/base",
            "overflow": null,
            "_model_module_version": "1.2.0",
            "_view_count": null,
            "flex_flow": null,
            "width": null,
            "min_width": null,
            "border": null,
            "align_items": null,
            "bottom": null,
            "_model_module": "@jupyter-widgets/base",
            "top": null,
            "grid_column": null,
            "overflow_y": null,
            "overflow_x": null,
            "grid_auto_flow": null,
            "grid_area": null,
            "grid_template_columns": null,
            "flex": null,
            "_model_name": "LayoutModel",
            "justify_items": null,
            "grid_row": null,
            "max_height": null,
            "align_content": null,
            "visibility": null,
            "align_self": null,
            "height": null,
            "min_height": null,
            "padding": null,
            "grid_auto_rows": null,
            "grid_gap": null,
            "max_width": null,
            "order": null,
            "_view_module_version": "1.2.0",
            "grid_template_areas": null,
            "object_position": null,
            "object_fit": null,
            "grid_auto_columns": null,
            "margin": null,
            "display": null,
            "left": null
          }
        },
        "7548b58b31054dc1905917b8eb1496f7": {
          "model_module": "@jupyter-widgets/controls",
          "model_name": "HTMLModel",
          "model_module_version": "1.5.0",
          "state": {
            "_view_name": "HTMLView",
            "style": "IPY_MODEL_a0f3533b5db94530a5d03b9654d8d6de",
            "_dom_classes": [],
            "description": "",
            "_model_name": "HTMLModel",
            "placeholder": "​",
            "_view_module": "@jupyter-widgets/controls",
            "_model_module_version": "1.5.0",
            "value": "100%",
            "_view_count": null,
            "_view_module_version": "1.5.0",
            "description_tooltip": null,
            "_model_module": "@jupyter-widgets/controls",
            "layout": "IPY_MODEL_63679af464d5499d8d93208d853c0d43"
          }
        },
        "ebac8d6485bf4bebb8baec06b6593eb1": {
          "model_module": "@jupyter-widgets/controls",
          "model_name": "FloatProgressModel",
          "model_module_version": "1.5.0",
          "state": {
            "_view_name": "ProgressView",
            "style": "IPY_MODEL_fbc287a10d8948b19bba9204e0ba4542",
            "_dom_classes": [],
            "description": "",
            "_model_name": "FloatProgressModel",
            "bar_style": "success",
            "max": 102530333,
            "_view_module": "@jupyter-widgets/controls",
            "_model_module_version": "1.5.0",
            "value": 102530333,
            "_view_count": null,
            "_view_module_version": "1.5.0",
            "orientation": "horizontal",
            "min": 0,
            "description_tooltip": null,
            "_model_module": "@jupyter-widgets/controls",
            "layout": "IPY_MODEL_09b2f4a2c6a441f9acad4dafcce423c2"
          }
        },
        "ed418a50653a47039eb797854a8d8dad": {
          "model_module": "@jupyter-widgets/controls",
          "model_name": "HTMLModel",
          "model_module_version": "1.5.0",
          "state": {
            "_view_name": "HTMLView",
            "style": "IPY_MODEL_52165b1faca74068ba6418c3766c6d05",
            "_dom_classes": [],
            "description": "",
            "_model_name": "HTMLModel",
            "placeholder": "​",
            "_view_module": "@jupyter-widgets/controls",
            "_model_module_version": "1.5.0",
            "value": " 97.8M/97.8M [00:01&lt;00:00, 61.2MB/s]",
            "_view_count": null,
            "_view_module_version": "1.5.0",
            "description_tooltip": null,
            "_model_module": "@jupyter-widgets/controls",
            "layout": "IPY_MODEL_86b5b3a434b74101947a17685d3d9c03"
          }
        },
        "a0f3533b5db94530a5d03b9654d8d6de": {
          "model_module": "@jupyter-widgets/controls",
          "model_name": "DescriptionStyleModel",
          "model_module_version": "1.5.0",
          "state": {
            "_view_name": "StyleView",
            "_model_name": "DescriptionStyleModel",
            "description_width": "",
            "_view_module": "@jupyter-widgets/base",
            "_model_module_version": "1.5.0",
            "_view_count": null,
            "_view_module_version": "1.2.0",
            "_model_module": "@jupyter-widgets/controls"
          }
        },
        "63679af464d5499d8d93208d853c0d43": {
          "model_module": "@jupyter-widgets/base",
          "model_name": "LayoutModel",
          "model_module_version": "1.2.0",
          "state": {
            "_view_name": "LayoutView",
            "grid_template_rows": null,
            "right": null,
            "justify_content": null,
            "_view_module": "@jupyter-widgets/base",
            "overflow": null,
            "_model_module_version": "1.2.0",
            "_view_count": null,
            "flex_flow": null,
            "width": null,
            "min_width": null,
            "border": null,
            "align_items": null,
            "bottom": null,
            "_model_module": "@jupyter-widgets/base",
            "top": null,
            "grid_column": null,
            "overflow_y": null,
            "overflow_x": null,
            "grid_auto_flow": null,
            "grid_area": null,
            "grid_template_columns": null,
            "flex": null,
            "_model_name": "LayoutModel",
            "justify_items": null,
            "grid_row": null,
            "max_height": null,
            "align_content": null,
            "visibility": null,
            "align_self": null,
            "height": null,
            "min_height": null,
            "padding": null,
            "grid_auto_rows": null,
            "grid_gap": null,
            "max_width": null,
            "order": null,
            "_view_module_version": "1.2.0",
            "grid_template_areas": null,
            "object_position": null,
            "object_fit": null,
            "grid_auto_columns": null,
            "margin": null,
            "display": null,
            "left": null
          }
        },
        "fbc287a10d8948b19bba9204e0ba4542": {
          "model_module": "@jupyter-widgets/controls",
          "model_name": "ProgressStyleModel",
          "model_module_version": "1.5.0",
          "state": {
            "_view_name": "StyleView",
            "_model_name": "ProgressStyleModel",
            "description_width": "",
            "_view_module": "@jupyter-widgets/base",
            "_model_module_version": "1.5.0",
            "_view_count": null,
            "_view_module_version": "1.2.0",
            "bar_color": null,
            "_model_module": "@jupyter-widgets/controls"
          }
        },
        "09b2f4a2c6a441f9acad4dafcce423c2": {
          "model_module": "@jupyter-widgets/base",
          "model_name": "LayoutModel",
          "model_module_version": "1.2.0",
          "state": {
            "_view_name": "LayoutView",
            "grid_template_rows": null,
            "right": null,
            "justify_content": null,
            "_view_module": "@jupyter-widgets/base",
            "overflow": null,
            "_model_module_version": "1.2.0",
            "_view_count": null,
            "flex_flow": null,
            "width": null,
            "min_width": null,
            "border": null,
            "align_items": null,
            "bottom": null,
            "_model_module": "@jupyter-widgets/base",
            "top": null,
            "grid_column": null,
            "overflow_y": null,
            "overflow_x": null,
            "grid_auto_flow": null,
            "grid_area": null,
            "grid_template_columns": null,
            "flex": null,
            "_model_name": "LayoutModel",
            "justify_items": null,
            "grid_row": null,
            "max_height": null,
            "align_content": null,
            "visibility": null,
            "align_self": null,
            "height": null,
            "min_height": null,
            "padding": null,
            "grid_auto_rows": null,
            "grid_gap": null,
            "max_width": null,
            "order": null,
            "_view_module_version": "1.2.0",
            "grid_template_areas": null,
            "object_position": null,
            "object_fit": null,
            "grid_auto_columns": null,
            "margin": null,
            "display": null,
            "left": null
          }
        },
        "52165b1faca74068ba6418c3766c6d05": {
          "model_module": "@jupyter-widgets/controls",
          "model_name": "DescriptionStyleModel",
          "model_module_version": "1.5.0",
          "state": {
            "_view_name": "StyleView",
            "_model_name": "DescriptionStyleModel",
            "description_width": "",
            "_view_module": "@jupyter-widgets/base",
            "_model_module_version": "1.5.0",
            "_view_count": null,
            "_view_module_version": "1.2.0",
            "_model_module": "@jupyter-widgets/controls"
          }
        },
        "86b5b3a434b74101947a17685d3d9c03": {
          "model_module": "@jupyter-widgets/base",
          "model_name": "LayoutModel",
          "model_module_version": "1.2.0",
          "state": {
            "_view_name": "LayoutView",
            "grid_template_rows": null,
            "right": null,
            "justify_content": null,
            "_view_module": "@jupyter-widgets/base",
            "overflow": null,
            "_model_module_version": "1.2.0",
            "_view_count": null,
            "flex_flow": null,
            "width": null,
            "min_width": null,
            "border": null,
            "align_items": null,
            "bottom": null,
            "_model_module": "@jupyter-widgets/base",
            "top": null,
            "grid_column": null,
            "overflow_y": null,
            "overflow_x": null,
            "grid_auto_flow": null,
            "grid_area": null,
            "grid_template_columns": null,
            "flex": null,
            "_model_name": "LayoutModel",
            "justify_items": null,
            "grid_row": null,
            "max_height": null,
            "align_content": null,
            "visibility": null,
            "align_self": null,
            "height": null,
            "min_height": null,
            "padding": null,
            "grid_auto_rows": null,
            "grid_gap": null,
            "max_width": null,
            "order": null,
            "_view_module_version": "1.2.0",
            "grid_template_areas": null,
            "object_position": null,
            "object_fit": null,
            "grid_auto_columns": null,
            "margin": null,
            "display": null,
            "left": null
          }
        }
      }
    }
  },
  "cells": [
    {
      "cell_type": "code",
      "metadata": {
        "colab": {
          "base_uri": "https://localhost:8080/"
        },
        "id": "eH8poCc7ET8I",
        "outputId": "c559e34c-fea0-4734-87ca-053bc7f97df0"
      },
      "source": [
        "from google.colab import drive\n",
        "drive.mount('/content/drive', force_remount=True)"
      ],
      "execution_count": null,
      "outputs": [
        {
          "output_type": "stream",
          "name": "stdout",
          "text": [
            "Mounted at /content/drive\n"
          ]
        }
      ]
    },
    {
      "cell_type": "code",
      "metadata": {
        "id": "QUez5iPBE9Y_"
      },
      "source": [
        "import matplotlib.pyplot as plt\n",
        "import torch\n",
        "import torch.nn as nn\n",
        "import numpy as np\n",
        "import os\n",
        "from args import get_parser\n",
        "import pickle\n",
        "from model import get_model\n",
        "from torchvision import transforms\n",
        "from utils.output_utils import prepare_output\n",
        "from PIL import Image\n",
        "import time"
      ],
      "execution_count": null,
      "outputs": []
    },
    {
      "cell_type": "code",
      "metadata": {
        "id": "o9Zs1w1VFwtw"
      },
      "source": [
        "data_dir = '/content/drive/MyDrive/inverseCooking'"
      ],
      "execution_count": null,
      "outputs": []
    },
    {
      "cell_type": "code",
      "metadata": {
        "id": "LAxb4WMzN35e"
      },
      "source": [
        "# code will run in gpu if available and if the flag is set to True, else it will run on cpu\n",
        "use_gpu = True\n",
        "device = torch.device('cuda' if torch.cuda.is_available() and use_gpu else 'cpu')\n",
        "map_loc = None if torch.cuda.is_available() and use_gpu else 'cpu'"
      ],
      "execution_count": null,
      "outputs": []
    },
    {
      "cell_type": "code",
      "metadata": {
        "id": "MDf9wqPnOYSU"
      },
      "source": [
        "ingrs_vocab = pickle.load(open(os.path.join(data_dir, 'ingr_vocab.pkl'), 'rb'))\n",
        "vocab = pickle.load(open(os.path.join(data_dir, 'instr_vocab.pkl'), 'rb'))\n",
        "\n",
        "ingr_vocab_size = len(ingrs_vocab)\n",
        "instrs_vocab_size = len(vocab)\n",
        "output_dim = instrs_vocab_size"
      ],
      "execution_count": null,
      "outputs": []
    },
    {
      "cell_type": "code",
      "metadata": {
        "colab": {
          "base_uri": "https://localhost:8080/"
        },
        "id": "Y1Zy81WSOa3q",
        "outputId": "79f7f292-e35f-4701-b324-a486b88c2bb7"
      },
      "source": [
        "print (instrs_vocab_size, ingr_vocab_size)"
      ],
      "execution_count": null,
      "outputs": [
        {
          "output_type": "stream",
          "name": "stdout",
          "text": [
            "23231 1488\n"
          ]
        }
      ]
    },
    {
      "cell_type": "code",
      "metadata": {
        "colab": {
          "base_uri": "https://localhost:8080/",
          "height": 156,
          "referenced_widgets": [
            "c003374a8cab47769345a5cdb2491413",
            "71d183145d064f84838abbeb8e508f42",
            "7548b58b31054dc1905917b8eb1496f7",
            "ebac8d6485bf4bebb8baec06b6593eb1",
            "ed418a50653a47039eb797854a8d8dad",
            "a0f3533b5db94530a5d03b9654d8d6de",
            "63679af464d5499d8d93208d853c0d43",
            "fbc287a10d8948b19bba9204e0ba4542",
            "09b2f4a2c6a441f9acad4dafcce423c2",
            "52165b1faca74068ba6418c3766c6d05",
            "86b5b3a434b74101947a17685d3d9c03"
          ]
        },
        "id": "mT9Q60fYOdMM",
        "outputId": "72b32c70-848e-4c6a-f8b6-b0cd44ab04e4"
      },
      "source": [
        "t = time.time()\n",
        "import sys; sys.argv=['']; del sys\n",
        "args = get_parser()\n",
        "args.maxseqlen = 15 # Max Sequence Length can be changed here\n",
        "args.ingrs_only = False\n",
        "model = get_model(args, ingr_vocab_size, instrs_vocab_size)\n",
        "\n",
        "# Load the trained model parameters\n",
        "model_path = os.path.join(data_dir, 'modelbest.ckpt')\n",
        "model.load_state_dict(torch.load(model_path, map_location=map_loc))\n",
        "model.to(device)\n",
        "model.eval()\n",
        "model.ingrs_only = False\n",
        "model.recipe_only = False\n",
        "print ('loaded model')\n",
        "print (\"Elapsed time:\", time.time() -t)"
      ],
      "execution_count": null,
      "outputs": [
        {
          "output_type": "stream",
          "name": "stderr",
          "text": [
            "Downloading: \"https://download.pytorch.org/models/resnet50-0676ba61.pth\" to /root/.cache/torch/hub/checkpoints/resnet50-0676ba61.pth\n"
          ]
        },
        {
          "output_type": "display_data",
          "data": {
            "application/vnd.jupyter.widget-view+json": {
              "model_id": "c003374a8cab47769345a5cdb2491413",
              "version_minor": 0,
              "version_major": 2
            },
            "text/plain": [
              "  0%|          | 0.00/97.8M [00:00<?, ?B/s]"
            ]
          },
          "metadata": {}
        },
        {
          "output_type": "stream",
          "name": "stderr",
          "text": [
            "/usr/local/lib/python3.7/dist-packages/torch/nn/_reduction.py:42: UserWarning: size_average and reduce args will be deprecated, please use reduction='none' instead.\n",
            "  warnings.warn(warning.format(ret))\n"
          ]
        },
        {
          "output_type": "stream",
          "name": "stdout",
          "text": [
            "loaded model\n",
            "Elapsed time: 17.783832550048828\n"
          ]
        }
      ]
    },
    {
      "cell_type": "code",
      "metadata": {
        "id": "RnRzbI5OOf7T"
      },
      "source": [
        "transf_list_batch = []\n",
        "transf_list_batch.append(transforms.ToTensor())\n",
        "transf_list_batch.append(transforms.Normalize((0.485, 0.456, 0.406), \n",
        "                                              (0.229, 0.224, 0.225)))\n",
        "to_input_transf = transforms.Compose(transf_list_batch)"
      ],
      "execution_count": null,
      "outputs": []
    },
    {
      "cell_type": "code",
      "metadata": {
        "id": "shy4M5iJOnR-"
      },
      "source": [
        "greedy = [True, False, False, False]\n",
        "beam = [-1, -1, -1, -1]\n",
        "temperature = 1.0\n",
        "numgens = len(greedy)"
      ],
      "execution_count": null,
      "outputs": []
    },
    {
      "cell_type": "code",
      "metadata": {
        "id": "Tg0FziNfOqRP"
      },
      "source": [
        "import requests\n",
        "from io import BytesIO\n",
        "import random\n",
        "from collections import Counter\n",
        "use_urls = False # set to true to load images from demo_urls instead of those in test_imgs folder\n",
        "show_anyways = False #if True, it will show the recipe even if it's not valid\n",
        "image_folder = os.path.join(data_dir, 'demo_imgs')\n",
        "\n",
        "if not use_urls:\n",
        "    demo_imgs = os.listdir(image_folder)\n",
        "    random.shuffle(demo_imgs)\n",
        "\n",
        "demo_urls = ['https://food.fnr.sndimg.com/content/dam/images/food/fullset/2013/12/9/0/FNK_Cheesecake_s4x3.jpg.rend.hgtvcom.826.620.suffix/1387411272847.jpeg',\n",
        "            'https://www.196flavors.com/wp-content/uploads/2014/10/california-roll-3-FP.jpg']\n",
        "\n",
        "demo_files = demo_urls if use_urls else demo_imgs"
      ],
      "execution_count": null,
      "outputs": []
    },
    {
      "cell_type": "code",
      "metadata": {
        "id": "-mbJmLhJ4Svd"
      },
      "source": [
        "def search(arr, x):\n",
        "  for i in range(len(arr)):\n",
        "    if arr[i] == x:\n",
        "      return True\n",
        "  return False"
      ],
      "execution_count": null,
      "outputs": []
    },
    {
      "cell_type": "code",
      "metadata": {
        "colab": {
          "base_uri": "https://localhost:8080/",
          "height": 1000
        },
        "id": "GbD2bVLEOtK1",
        "outputId": "ce4ed2c2-951b-4130-9a16-d17c7dad1b5d"
      },
      "source": [
        "for img_file in demo_files:\n",
        "    \n",
        "    if use_urls:\n",
        "        response = requests.get(img_file)\n",
        "        image = Image.open(BytesIO(response.content))\n",
        "    else:\n",
        "        image_path = os.path.join(image_folder, img_file)\n",
        "        image = Image.open(image_path).convert('RGB')\n",
        "    \n",
        "    transf_list = []\n",
        "    transf_list.append(transforms.Resize(256))\n",
        "    transf_list.append(transforms.CenterCrop(224))\n",
        "    transform = transforms.Compose(transf_list)\n",
        "    \n",
        "    image_transf = transform(image)\n",
        "    image_tensor = to_input_transf(image_transf).unsqueeze(0).to(device)\n",
        "    \n",
        "    plt.imshow(image_transf)\n",
        "    plt.axis('off')\n",
        "    plt.show()\n",
        "    plt.close()\n",
        "    \n",
        "    num_valid = 1\n",
        "    for i in range(numgens):\n",
        "        with torch.no_grad():\n",
        "            outputs = model.sample(image_tensor, greedy=greedy[i], \n",
        "                                   temperature=temperature, beam=beam[i], true_ingrs=None)\n",
        "            \n",
        "        ingr_ids = outputs['ingr_ids'].cpu().numpy()\n",
        "        recipe_ids = outputs['recipe_ids'].cpu().numpy()\n",
        "            \n",
        "        outs, valid = prepare_output(recipe_ids[0], ingr_ids[0], ingrs_vocab, vocab)\n",
        "\n",
        "        ingr_probs, _ = torch.max(outputs['ingr_probs'], dim=1)\n",
        "        ingr_probs_sorted, indices_of_sorted = torch.sort(ingr_probs[0], descending = True)\n",
        "\n",
        "        ingr_ids = outputs['ingr_ids'].cpu().numpy()\n",
        "        ingr_ids = ingr_ids[0]\n",
        "\n",
        "        count = 0\n",
        "        ingr_not_present = []\n",
        "\n",
        "        for i in range(len(ingr_ids)):\n",
        "          if(ingr_ids[i] != 1487):\n",
        "            count += 1\n",
        "\n",
        "        for i in range(count):\n",
        "          present = search(ingr_ids, (indices_of_sorted.cpu().numpy())[i])\n",
        "          if not present:\n",
        "            ingr_not_present.append((indices_of_sorted.cpu().numpy())[i])\n",
        "\n",
        "        ingr_not_present.remove(0)\n",
        "        \n",
        "        if valid['is_valid'] or show_anyways:\n",
        "            \n",
        "            print ('RECIPE', num_valid)\n",
        "            num_valid+=1\n",
        "    \n",
        "            BOLD = '\\033[1m'\n",
        "            END = '\\033[0m'\n",
        "            print (BOLD + '\\nTitle:' + END,outs['title'])\n",
        "\n",
        "            print (BOLD + '\\nIngredients:'+ END)\n",
        "            print (', '.join(outs['ingrs']))\n",
        "\n",
        "            print (BOLD + '\\nInstructions:'+END)\n",
        "            print ('-'+'\\n-'.join(outs['recipe']))\n",
        "\n",
        "            print (BOLD + '\\nFollowing ingredients can be added:'+END)\n",
        "\n",
        "            if(len(ingr_not_present)):\n",
        "              for i in range(len(ingr_not_present)):\n",
        "                print(ingrs_vocab[ingr_not_present[i]])\n",
        "            else:\n",
        "              print(\"Ingredients list is perfect. Nothing to add:)\")\n",
        "\n",
        "            print ('='*20)\n",
        "\n",
        "        else:\n",
        "            pass\n",
        "            print (\"Not a valid recipe!\")\n",
        "            print (\"Reason: \", valid['reason'])\n",
        "\n",
        "import sys; sys.argv=['']; del sys\n",
        "args = get_parser()\n",
        "args.maxnumlabels = 7 # Max Sequence Length can be changed here\n",
        "args.ingrs_only = False\n",
        "model = get_model(args, ingr_vocab_size, instrs_vocab_size)\n",
        "\n",
        "greedy = [True]\n",
        "beam = [-1]\n",
        "temperature = 1.0\n",
        "numgens = len(greedy)\n",
        "\n",
        "# Load the trained model parameters\n",
        "model_path = os.path.join(data_dir, 'modelbest.ckpt')\n",
        "model.load_state_dict(torch.load(model_path, map_location=map_loc))\n",
        "model.to(device)\n",
        "model.eval()\n",
        "model.ingrs_only = False\n",
        "model.recipe_only = False\n",
        "\n",
        "for img_file in demo_files:\n",
        "    \n",
        "    if use_urls:\n",
        "        response = requests.get(img_file)\n",
        "        image = Image.open(BytesIO(response.content))\n",
        "    else:\n",
        "        image_path = os.path.join(image_folder, img_file)\n",
        "        image = Image.open(image_path).convert('RGB')\n",
        "    \n",
        "    transf_list = []\n",
        "    transf_list.append(transforms.Resize(256))\n",
        "    transf_list.append(transforms.CenterCrop(224))\n",
        "    transform = transforms.Compose(transf_list)\n",
        "    \n",
        "    image_transf = transform(image)\n",
        "    image_tensor = to_input_transf(image_transf).unsqueeze(0).to(device)\n",
        "    \n",
        "    num_valid = 1\n",
        "    for i in range(numgens):\n",
        "        with torch.no_grad():\n",
        "            outputs = model.sample(image_tensor, greedy=greedy[i], \n",
        "                                   temperature=temperature, beam=beam[i], true_ingrs=None)\n",
        "            \n",
        "        # print(\"Outputs = \", outputs)\n",
        "        ingr_ids = outputs['ingr_ids'].cpu().numpy()\n",
        "        recipe_ids = outputs['recipe_ids'].cpu().numpy()\n",
        "            \n",
        "        outs, valid = prepare_output(recipe_ids[0], ingr_ids[0], ingrs_vocab, vocab)\n",
        "\n",
        "        ingr_probs, _ = torch.max(outputs['ingr_probs'], dim=1)\n",
        "        ingr_probs_sorted, indices_of_sorted = torch.sort(ingr_probs[0], descending = True)\n",
        "\n",
        "        ingr_ids = outputs['ingr_ids'].cpu().numpy()\n",
        "        ingr_ids = ingr_ids[0]\n",
        "\n",
        "        # print(\"Outs = \", outs)\n",
        "        # print(\"Valid = \", valid)\n",
        "        \n",
        "        if valid['is_valid'] or show_anyways:\n",
        "    \n",
        "            BOLD = '\\033[1m'\n",
        "            END = '\\033[0m'\n",
        "            print ('\\n')\n",
        "            print (BOLD + 'After removing some of the ingredients:')\n",
        "            print (BOLD + '\\nTitle:' + END,outs['title'])\n",
        "\n",
        "            print (BOLD + '\\nIngredients:'+ END)\n",
        "            print (', '.join(outs['ingrs']))\n",
        "\n",
        "            print (BOLD + '\\nInstructions:'+END)\n",
        "            print ('-'+'\\n-'.join(outs['recipe']))\n",
        "\n",
        "            print ('='*20)\n",
        "\n",
        "        else:\n",
        "            pass\n",
        "            print (\"Not a valid recipe!\")\n",
        "            print (\"Reason: \", valid['reason'])"
      ],
      "execution_count": null,
      "outputs": [
        {
          "output_type": "display_data",
          "data": {
            "image/png": "[encoded data removed]",
            "text/plain": [
              "<Figure size 432x288 with 1 Axes>"
            ]
          },
          "metadata": {
            "needs_background": "light"
          }
        },
        {
          "output_type": "stream",
          "name": "stderr",
          "text": [
            "/content/modules/multihead_attention.py:128: UserWarning: masked_fill_ received a mask with dtype torch.uint8, this behavior is now deprecated,please use a mask with dtype torch.bool instead. (Triggered internally at  /pytorch/aten/src/ATen/native/cuda/Indexing.cu:963.)\n",
            "  float('-inf'),\n"
          ]
        },
        {
          "output_type": "stream",
          "name": "stdout",
          "text": [
            "RECIPE 1\n",
            "\u001b[1m\n",
            "Title:\u001b[0m Garlic shrimp scampi\n",
            "\u001b[1m\n",
            "Ingredients:\u001b[0m\n",
            "shrimp, pepper, butter, clove, oil, salt, pasta, parsley\n",
            "\u001b[1m\n",
            "Instructions:\u001b[0m\n",
            "-Heat olive oil in a large skillet over medium heat.\n",
            "-Cook and stir garlic in hot oil until fragrant, about 1 minute.\n",
            "-Stir shrimp into garlic; cook and stir until shrimp are pink and opaque, about 3 minutes.\n",
            "-Season with salt and pepper.\n",
            "-Stir butter into shrimp mixture until melted and sauce is heated through, about 2 minutes.\n",
            "-Stir parsley into shrimp mixture; cook and stir until heated through, about 1 minute.\n",
            "\u001b[1m\n",
            "Following ingredients can be added:\u001b[0m\n",
            "cheese\n",
            "wine\n",
            "====================\n",
            "RECIPE 2\n",
            "\u001b[1m\n",
            "Title:\u001b[0m Pasta ai carciofi\n",
            "\u001b[1m\n",
            "Ingredients:\u001b[0m\n",
            "shrimp, pepper, butter, clove, oil, salt, pasta, parsley\n",
            "\u001b[1m\n",
            "Instructions:\u001b[0m\n",
            "-Saute garlic in oil, until softened but not browned.\n",
            "-Add shrimp, saute for 2 min.\n",
            "-Add pasta sauce, and parsley.\n",
            "-Toss to coat the pasta.\n",
            "-Season with salt, pepper, and red pepper flakes.\n",
            "-Serve warm.\n",
            "\u001b[1m\n",
            "Following ingredients can be added:\u001b[0m\n",
            "cheese\n",
            "wine\n",
            "====================\n",
            "RECIPE 3\n",
            "\u001b[1m\n",
            "Title:\u001b[0m Easy shrimp scampi\n",
            "\u001b[1m\n",
            "Ingredients:\u001b[0m\n",
            "shrimp, pepper, butter, clove, oil, salt, pasta, parsley\n",
            "\u001b[1m\n",
            "Instructions:\u001b[0m\n",
            "-Heat oil in heavy large skillet over medium-high heat.\n",
            "-Add garlic, pepper, and salt; stir-fry 30 seconds.\n",
            "-Add shrimp.\n",
            "-Stir-fry 5 minutes or until shrimp turn pink.\n",
            "-Add pasta, parsley, butter, and pepper.\n",
            "-Toss to coat.\n",
            "\u001b[1m\n",
            "Following ingredients can be added:\u001b[0m\n",
            "cheese\n",
            "wine\n",
            "====================\n",
            "RECIPE 4\n",
            "\u001b[1m\n",
            "Title:\u001b[0m Garlic shrimp pasta with fresh garlic\n",
            "\u001b[1m\n",
            "Ingredients:\u001b[0m\n",
            "shrimp, pepper, butter, clove, oil, salt, pasta, parsley\n",
            "\u001b[1m\n",
            "Instructions:\u001b[0m\n",
            "-Heat a skillet over high heat.\n",
            "-Add oil and shrimp; sprinkle with salt and pepper.\n",
            "-Stir-fry for 2-3 minutes or until shrimp turn pink.\n",
            "-Remove shrimp from pan.\n",
            "-Cook linguine pasta according to package directions, omitting salt and fat.\n",
            "-Drain pasta; return to pan.\n",
            "-Add butter and garlic; toss.\n",
            "-Stir in parsley; toss gently to coat.\n",
            "-Serve immediately.\n",
            "\u001b[1m\n",
            "Following ingredients can be added:\u001b[0m\n",
            "cheese\n",
            "wine\n",
            "====================\n"
          ]
        },
        {
          "output_type": "stream",
          "name": "stderr",
          "text": [
            "/usr/local/lib/python3.7/dist-packages/torch/nn/_reduction.py:42: UserWarning: size_average and reduce args will be deprecated, please use reduction='none' instead.\n",
            "  warnings.warn(warning.format(ret))\n"
          ]
        },
        {
          "output_type": "stream",
          "name": "stdout",
          "text": [
            "\n",
            "\n",
            "\u001b[1mAfter removing some of the ingredients:\n",
            "\u001b[1m\n",
            "Title:\u001b[0m Garlic shrimp pasta\n",
            "\u001b[1m\n",
            "Ingredients:\u001b[0m\n",
            "shrimp, pepper, butter, clove, oil, salt, pasta\n",
            "\u001b[1m\n",
            "Instructions:\u001b[0m\n",
            "-Cook pasta according to package directions.\n",
            "-Drain and set aside.\n",
            "-In a large skillet, heat oil over medium heat.\n",
            "-Add garlic and cook for 1 minute.\n",
            "-Add shrimp and cook for 2 minutes.\n",
            "-Add butter and cook for 2 minutes.\n",
            "-Add salt and pepper.\n",
            "-Toss in pasta and serve.\n",
            "====================\n"
          ]
        }
      ]
    }
  ]
}